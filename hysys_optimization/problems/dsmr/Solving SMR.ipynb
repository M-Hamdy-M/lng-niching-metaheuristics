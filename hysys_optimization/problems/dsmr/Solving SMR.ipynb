{
 "cells": [
  {
   "cell_type": "code",
   "execution_count": null,
   "metadata": {},
   "outputs": [],
   "source": [
    "import sys\n",
    "import numpy as np\n",
    "import os\n",
    "from tqdm.notebook import tqdm\n",
    "import pandas as pd\n",
    "import itertools"
   ]
  },
  {
   "cell_type": "code",
   "execution_count": null,
   "metadata": {},
   "outputs": [],
   "source": [
    "pdidx = pd.IndexSlice"
   ]
  },
  {
   "cell_type": "code",
   "execution_count": null,
   "metadata": {},
   "outputs": [],
   "source": [
    "PATH = \"../../../\"\n",
    "if PATH not in sys.path:\n",
    "    sys.path.append(PATH)\n",
    "from optimization.algorithms.utils.callbacks import SolutionTracer\n",
    "from hysys_optimization.problems.dsmr.smr_opt_problem import SMROptimizationProblem"
   ]
  },
  {
   "cell_type": "code",
   "execution_count": null,
   "metadata": {},
   "outputs": [],
   "source": [
    "SIMULTAION_PATH = \"Dual SMR Simulation.hsc\""
   ]
  },
  {
   "cell_type": "markdown",
   "metadata": {},
   "source": [
    "## Helper Functions and Classes"
   ]
  },
  {
   "cell_type": "code",
   "execution_count": null,
   "metadata": {},
   "outputs": [],
   "source": [
    "\n",
    "def optimize_smr(algorithm, n_individuals, random_state, exp_path, force_rerun=False, max_fes=None, do_scale=True):\n",
    "    if max_fes is None:\n",
    "        max_fes = np.inf\n",
    "\n",
    "    smr_prob = SMROptimizationProblem(SIMULTAION_PATH, simulation_is_visible=True, do_scale=do_scale)\n",
    "    exp_dir_name = f\"data/{exp_path}\"\n",
    "\n",
    "    name = os.path.join(\n",
    "        exp_dir_name, f\"{algorithm.name}_rs{random_state}_n{n_individuals}{'ns' if not do_scale else ''}.npz\")\n",
    "    # if experiment is new create its folder\n",
    "    if not os.path.exists(exp_dir_name):\n",
    "        os.makedirs(exp_dir_name)\n",
    "\n",
    "    # if this run was done before load it\n",
    "    if os.path.exists(name) and not force_rerun:\n",
    "        loaded = np.load(name, allow_pickle=True)\n",
    "        keys = list(loaded.keys())\n",
    "        history = {k: loaded[k] for k in keys}\n",
    "        return history, smr_prob\n",
    "    # if the run wasn't done before do it and save the results\n",
    "    else:\n",
    "        tracer = SolutionTracer(population_callbacks={\n",
    "            \"solutions\": lambda population: population.solutions.copy(),\n",
    "            \"penalized_objs\": lambda population: population.solutions_objective_values.copy(),\n",
    "        })\n",
    "        algorithm.compile(optimization_problem=smr_prob,\n",
    "                          initializer_kwargs={\"n_individuals\":n_individuals}, random_state=random_state)\n",
    "        algorithm.optimize(fes=max_fes, callbacks=[tracer], verbose=1)\n",
    "        history = tracer.history\n",
    "        # evaluate constraints and actual objective of the final poppulation and save_them\n",
    "        objs, constraints, penalized_objs = smr_prob.evaluate(\n",
    "            algorithm.population.solutions)\n",
    "        history[\"constraints\"] = constraints\n",
    "        history[\"objs\"] = objs\n",
    "        np.savez(name, solutions=np.array(tracer.history[\"solutions\"], dtype=np.ndarray),\n",
    "            penalized_objs=np.array(tracer.history[\"penalized_objs\"], dtype=np.ndarray), constraints=constraints, objs=objs)\n",
    "        return history, smr_prob"
   ]
  },
  {
   "cell_type": "markdown",
   "metadata": {},
   "source": [
    "## Start Optimizaing"
   ]
  },
  {
   "cell_type": "code",
   "execution_count": null,
   "metadata": {},
   "outputs": [],
   "source": [
    "from optimization.algorithms.de.variants import get_ncde, get_clde\n",
    "from optimization.algorithms.pso.variants import get_ferpso, get_gbest_pso, get_lbest_pso"
   ]
  },
  {
   "cell_type": "code",
   "execution_count": null,
   "metadata": {},
   "outputs": [],
   "source": [
    "MAX_GENs = 100\n",
    "n_individuals = 50\n",
    "\n",
    "max_fes = MAX_GENs * n_individuals"
   ]
  },
  {
   "cell_type": "code",
   "execution_count": null,
   "metadata": {},
   "outputs": [],
   "source": [
    "## General params\n",
    "species_radius = 0.5\n",
    "species_size = int(n_individuals / 10)  \n",
    "\n",
    "## PSO params\n",
    "phi_max = 4.1\n",
    "\n",
    "## DE params\n",
    "F = 0.9\n",
    "pc = 0.1\n",
    "strategy = \"DE/rand/1/bin\"  \n",
    "\n",
    "algorithms = [\n",
    "    get_gbest_pso(phi_max=phi_max),\n",
    "    get_lbest_pso(phi_max=phi_max, neighborhood_size=3),\n",
    "    get_ferpso(phi_max=phi_max),\n",
    "    get_ncde(F=F, C=pc), \n",
    "    get_clde(F=F, pc=pc, strategy=strategy, clearing_radius=species_radius, clearing_capacity=species_size),\n",
    "]\n",
    "print([algorithm.name for algorithm in algorithms])"
   ]
  },
  {
   "cell_type": "code",
   "execution_count": null,
   "metadata": {},
   "outputs": [],
   "source": [
    "EXP_PATH = \"ACCEPTED TEST\""
   ]
  },
  {
   "cell_type": "code",
   "execution_count": null,
   "metadata": {},
   "outputs": [],
   "source": [
    "\n",
    "RANDOM_SEEDS = [\n",
    "    2, 3, 5, 7, 11, 13, 17, 19, 23, 29,\n",
    "    31, 37, 41, 43, 47, 53, 59, 61, 67, 71,\n",
    "    73, 79, 83, 89, 97, 101, 103, 107, 109, 113,\n",
    "    127, 131, 137, 139, 149, 151, 157, 163, 167, 173,\n",
    "    179, 181, 191, 193, 197, 199, 211, 223, 227, 229,\n",
    "    233, 239, 241, 251, 257, 263, 269, 271, 277, 281,\n",
    "    283, 293, 307, 311, 313, 317, 331, 337, 347, 349,\n",
    "    353, 359, 367, 373, 379, 383, 389, 397, 401, 409,\n",
    "    419, 421, 431, 433, 439, 443, 449, 457, 461, 463,\n",
    "    467, 479, 487, 491, 499, 503, 509, 521, 523, 541\n",
    "]\n",
    "\n",
    "runs = 10\n",
    "do_scale = True\n",
    "FORCE_RERUN = True"
   ]
  },
  {
   "cell_type": "code",
   "execution_count": null,
   "metadata": {},
   "outputs": [],
   "source": [
    "from collections import defaultdict\n",
    "histories = defaultdict(dict)\n",
    "pbar = tqdm(itertools.product(RANDOM_SEEDS[:runs], algorithms), leave=True, total=len(algorithms) * runs)\n",
    "for seed, algorithm in pbar:\n",
    "    pbar.set_description(f\"{algorithm.name} optimizing using seed: {seed}\")\n",
    "    histories[algorithm.name][seed], prob = optimize_smr(algorithm=algorithm,\n",
    "                                              n_individuals=n_individuals,\n",
    "                                              random_state=seed,\n",
    "                                              exp_path=EXP_PATH,\n",
    "                                              force_rerun=FORCE_RERUN,\n",
    "                                              max_fes=max_fes,\n",
    "                                              do_scale=do_scale)\n",
    "    print(algorithm.name, \" best penalized objective: \", histories[algorithm.name][seed][\"penalized_objs\"][-1].max())"
   ]
  },
  {
   "cell_type": "markdown",
   "metadata": {},
   "source": [
    "## Shot Top Solutions"
   ]
  },
  {
   "cell_type": "code",
   "execution_count": null,
   "metadata": {},
   "outputs": [],
   "source": [
    "smr_prob = SMROptimizationProblem(SIMULTAION_PATH, simulation_is_visible=True, do_scale=do_scale)"
   ]
  },
  {
   "cell_type": "code",
   "execution_count": null,
   "metadata": {},
   "outputs": [],
   "source": [
    "best_obj_series = pd.Series()\n",
    "df = pd.DataFrame(index=pd.Index(RANDOM_SEEDS[:runs], name=\"random_state\"), columns=pd.MultiIndex.from_product([list(histories.keys()), [\"N MF\", \"M MF\", \"E MF\", \"P MF\", \"ib MF\", \"ip MF\",  \"Suction P\", \"Discharge P\", \"MITA1\", \"MITA2\", \"Total Power\"]], names=(\"algorithm\", \"attr\")), dtype=float)\n",
    "\n",
    "for algorithm in histories:\n",
    "    for seed in histories[algorithm].keys():\n",
    "        mask = np.logical_and(histories[algorithm][seed][\"constraints\"][:, 0] >= 2.95, histories[algorithm][seed][\"constraints\"][:, 0] <= 3.05)\n",
    "        filtered_objs = histories[algorithm][seed][\"objs\"][mask]\n",
    "        if len(filtered_objs) == 0:\n",
    "            continue\n",
    "        best_idx = np.argmax(filtered_objs)\n",
    "        best_idx = np.arange(len(histories[algorithm][seed][\"penalized_objs\"][-1]))[mask][best_idx]\n",
    "        df.loc[seed, pdidx[algorithm, \"Total Power\"]] = - histories[algorithm][seed][\"objs\"][best_idx]\n",
    "        if do_scale:\n",
    "            df.loc[seed, pdidx[algorithm, [\"N MF\", \"M MF\", \"E MF\", \"P MF\", \"ib MF\", \"ip MF\",  \"Suction P\", \"Discharge P\"]]] = smr_prob.inverse_scale(histories[algorithm][seed][\"solutions\"][-1][best_idx])\n",
    "        else:\n",
    "            df.loc[seed, pdidx[algorithm, [\"N MF\", \"M MF\", \"E MF\", \"P MF\", \"ib MF\", \"ip MF\",  \"Suction P\", \"Discharge P\"]]] = histories[algorithm][seed][\"solutions\"][-1][best_idx]\n",
    "\n",
    "        df.loc[seed, pdidx[algorithm, \"Penalized Obj\"]] = -histories[algorithm][seed][\"penalized_objs\"][-1][best_idx]\n",
    "        df.loc[seed, pdidx[algorithm, [\"MITA1\", \"MITA2\"]]] = histories[algorithm][seed][\"constraints\"][best_idx]\n",
    "df.stack(\"algorithm\").sort_values(by=\"Total Power\")"
   ]
  },
  {
   "cell_type": "code",
   "execution_count": null,
   "metadata": {},
   "outputs": [],
   "source": [
    "tmp_df = df.stack(\"algorithm\").round(4)\n",
    "best_idx = tmp_df.groupby(\"algorithm\")[\"Total Power\"].idxmin()\n",
    "best_solutions = tmp_df.loc[best_idx].sort_values(by=\"Total Power\").droplevel(0, 0)[[\"N MF\", \"M MF\", \"E MF\", \"P MF\", \"ib MF\", \"ip MF\",  \"Suction P\", \"Discharge P\", \"MITA1\", \"MITA2\", \"Total Power\", \"Penalized Obj\"]].sort_values(by=\"Total Power\")\n",
    "\n",
    "best_solutions"
   ]
  }
 ],
 "metadata": {
  "kernelspec": {
   "display_name": "AI",
   "language": "python",
   "name": "python3"
  },
  "language_info": {
   "codemirror_mode": {
    "name": "ipython",
    "version": 3
   },
   "file_extension": ".py",
   "mimetype": "text/x-python",
   "name": "python",
   "nbconvert_exporter": "python",
   "pygments_lexer": "ipython3",
   "version": "3.11.0"
  }
 },
 "nbformat": 4,
 "nbformat_minor": 2
}
