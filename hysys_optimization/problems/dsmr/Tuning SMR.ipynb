{
 "cells": [
  {
   "cell_type": "code",
   "execution_count": null,
   "metadata": {},
   "outputs": [],
   "source": [
    "import sys\n",
    "from tqdm.notebook import tqdm\n",
    "import pandas as pd"
   ]
  },
  {
   "cell_type": "code",
   "execution_count": null,
   "metadata": {},
   "outputs": [],
   "source": [
    "pdidx = pd.IndexSlice"
   ]
  },
  {
   "cell_type": "code",
   "execution_count": null,
   "metadata": {},
   "outputs": [],
   "source": [
    "PATH = \"../../../\"\n",
    "if PATH not in sys.path:\n",
    "    sys.path.append(PATH)"
   ]
  },
  {
   "cell_type": "code",
   "execution_count": null,
   "metadata": {},
   "outputs": [],
   "source": [
    "from optimization.tuning.bo.core.tune import tune\n",
    "from hysys_optimization.problems.dsmr.smr_opt_problem import SMROptimizationProblem"
   ]
  },
  {
   "cell_type": "code",
   "execution_count": null,
   "metadata": {},
   "outputs": [],
   "source": [
    "SIMULTAION_PATH = \"Dual SMR Simulation.hsc\""
   ]
  },
  {
   "cell_type": "markdown",
   "metadata": {},
   "source": [
    "## Helper Functions and Classes"
   ]
  },
  {
   "cell_type": "code",
   "execution_count": null,
   "metadata": {},
   "outputs": [],
   "source": [
    "def tune_smr(optimizable, random_state, id, n_trials, force_tune=False,  do_scale=True):\n",
    "    smr_prob = SMROptimizationProblem(SIMULTAION_PATH, simulation_is_visible=True, do_scale=do_scale)\n",
    "    _, params = tune(optimizable=optimizable, problem=smr_prob, n_trials=n_trials, save_id=id, force_tune=force_tune, seed=random_state, evaluation_reps=0)\n",
    "    return params"
   ]
  },
  {
   "cell_type": "code",
   "execution_count": null,
   "metadata": {},
   "outputs": [],
   "source": [
    "from optimization.tuning.bo.optimizables.pso import OptimizableFERPSO\n",
    "from optimization.tuning.bo.optimizables.de import OptimizableNCDE, OptimizableCLDE\n",
    "\n",
    "n_individuals = 50\n",
    "max_fes = n_individuals *50\n",
    "verbose = 1\n",
    "\n",
    "optimizables = [\n",
    "    OptimizableFERPSO(n_individuals=n_individuals, max_fes=max_fes, verbose=verbose),\n",
    "    OptimizableNCDE(n_individuals=n_individuals, max_fes=max_fes, verbose=verbose),\n",
    "    OptimizableCLDE(n_individuals=n_individuals, max_fes=max_fes, verbose=verbose),\n",
    "]"
   ]
  },
  {
   "cell_type": "code",
   "execution_count": null,
   "metadata": {},
   "outputs": [],
   "source": [
    "seed = 42\n",
    "n_trials = 100\n",
    "force_tune = True\n",
    "do_scale = True\n",
    "save_id = \"FINAL\""
   ]
  },
  {
   "cell_type": "code",
   "execution_count": null,
   "metadata": {},
   "outputs": [],
   "source": [
    "from collections import defaultdict\n",
    "optimal_value = defaultdict(dict)\n",
    "pbar = tqdm(optimizables)\n",
    "for optimizable in pbar:\n",
    "    pbar.set_description(f\"{optimizable.name}\")\n",
    "    optimal_value[optimizable.name] = tune_smr(optimizable, random_state=seed, id=save_id, n_trials=n_trials, force_tune=force_tune, do_scale=do_scale)"
   ]
  },
  {
   "cell_type": "code",
   "execution_count": null,
   "metadata": {},
   "outputs": [],
   "source": [
    "from optimization.tuning.bo.utils.optimization import get_hyperparams\n",
    "print(f'Optimized Params: {get_hyperparams(\"SMR\", \"FERPSO\", \"FINAL\")[\"params\"]}')"
   ]
  }
 ],
 "metadata": {
  "kernelspec": {
   "display_name": "AI",
   "language": "python",
   "name": "python3"
  },
  "language_info": {
   "codemirror_mode": {
    "name": "ipython",
    "version": 3
   },
   "file_extension": ".py",
   "mimetype": "text/x-python",
   "name": "python",
   "nbconvert_exporter": "python",
   "pygments_lexer": "ipython3",
   "version": "3.11.0"
  }
 },
 "nbformat": 4,
 "nbformat_minor": 2
}
